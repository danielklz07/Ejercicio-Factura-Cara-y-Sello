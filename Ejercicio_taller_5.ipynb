{
  "nbformat": 4,
  "nbformat_minor": 0,
  "metadata": {
    "colab": {
      "provenance": [],
      "authorship_tag": "ABX9TyNJg7ScMOaCGHZph5yx1RX/",
      "include_colab_link": true
    },
    "kernelspec": {
      "name": "python3",
      "display_name": "Python 3"
    },
    "language_info": {
      "name": "python"
    }
  },
  "cells": [
    {
      "cell_type": "markdown",
      "metadata": {
        "id": "view-in-github",
        "colab_type": "text"
      },
      "source": [
        "<a href=\"https://colab.research.google.com/github/danielklz07/Ejercicio-Factura-Cara-y-Sello/blob/main/Ejercicio_taller_5.ipynb\" target=\"_parent\"><img src=\"https://colab.research.google.com/assets/colab-badge.svg\" alt=\"Open In Colab\"/></a>"
      ]
    },
    {
      "cell_type": "markdown",
      "source": [
        "#Clase 5/05/2023\n",
        "\n"
      ],
      "metadata": {
        "id": "aQ2HcfB3GV7l"
      }
    },
    {
      "cell_type": "code",
      "execution_count": null,
      "metadata": {
        "colab": {
          "base_uri": "https://localhost:8080/"
        },
        "id": "weuBPXjmGFcI",
        "outputId": "1a6be3df-1a7b-44eb-d7c8-0d093b368ceb"
      },
      "outputs": [
        {
          "output_type": "stream",
          "name": "stdout",
          "text": [
            "Hola, Antolin\n",
            "name\n"
          ]
        }
      ],
      "source": [
        "def say_hello(name):\n",
        "  print(\"Hola, \" + name)\n",
        "\n",
        "say_hello(\"Antolin\")\n",
        "print(\"name\")"
      ]
    },
    {
      "cell_type": "code",
      "source": [
        "menu = {\"Mondongo\": 1000, \"Yuca\": 500, \"Chirimolla\": 1200}\n",
        "print(menu)\n"
      ],
      "metadata": {
        "colab": {
          "base_uri": "https://localhost:8080/"
        },
        "id": "cRbjO2YZL_xg",
        "outputId": "ed4c60f7-b017-4dc8-fe28-0e3f5edf082b"
      },
      "execution_count": null,
      "outputs": [
        {
          "output_type": "stream",
          "name": "stdout",
          "text": [
            "{'Mondongo': 1000, 'Yuca': 500, 'Chirimolla': 1200}\n"
          ]
        }
      ]
    },
    {
      "cell_type": "code",
      "source": [
        "q = [2, 3, 5, 4, 1]\n",
        "prices = [1000, 2000, 1500, 3500, 2300]\n",
        "\n",
        "def calculate_total(q_list, prices_list):\n",
        "  total = 0\n",
        "  if len(q_list) == len(prices_list):\n",
        "    for i in range(len(q_list)):\n",
        "       total += q_list[i] * prices_list[i]\n",
        "  \n",
        "  else:\n",
        "    print(\"Las listas son de tamañs dierentes.\")\n",
        "  return total\n",
        "\n",
        "total_venta = calculate_total(q,prices)\n",
        "print(f\"ventas totales: ${total_venta}\")"
      ],
      "metadata": {
        "colab": {
          "base_uri": "https://localhost:8080/"
        },
        "id": "Pcd3-jR3NnK5",
        "outputId": "54ba1a7b-630e-4507-fa34-cf92d16c96a8"
      },
      "execution_count": null,
      "outputs": [
        {
          "output_type": "stream",
          "name": "stdout",
          "text": [
            "ventas totales: $31800\n"
          ]
        }
      ]
    },
    {
      "cell_type": "code",
      "source": [
        "fast_foods = {\"Pizza\": 14000, \"Hot Dog\": 10000, \"Burger\": 12000, \"Suizo\": 20000, \"Sandwich\": 9000}\n",
        "\n",
        "print(\"Menu\")\n",
        "for key, value in fast_foods.items():\n",
        "  print(f\"{key}... ${value}\")"
      ],
      "metadata": {
        "colab": {
          "base_uri": "https://localhost:8080/"
        },
        "id": "AT7YqEpwRnia",
        "outputId": "2a0ccce6-4cce-41fe-cd12-4835a1cbd4d5"
      },
      "execution_count": null,
      "outputs": [
        {
          "output_type": "stream",
          "name": "stdout",
          "text": [
            "Menu\n",
            "Pizza... $14000\n",
            "Hot Dog... $10000\n",
            "Burger... $12000\n",
            "Suizo... $20000\n",
            "Sandwich... $9000\n"
          ]
        }
      ]
    },
    {
      "cell_type": "markdown",
      "source": [
        "#Ejercicio 5\n"
      ],
      "metadata": {
        "id": "epAY3tn0giTf"
      }
    },
    {
      "cell_type": "code",
      "source": [
        "def is_in_phrase(word, phrase):\n",
        "  return word.lower() in phrase.lower()\n",
        "\n",
        "my_name = input(\"Escriber un nombre;)\")\n",
        "my_phrase = input(\"Escriber una oracion;)\")\n",
        "\n",
        "if is_in_phrase(my_name, my_phrase):\n",
        "  print(\"La palabra se encuentra en la frase.\")\n",
        "else:\n",
        "  print(\"La palabra NO se encuentra en la frase.\")"
      ],
      "metadata": {
        "id": "6xVDlhdTWg4U",
        "outputId": "56f2d4ef-1938-4487-96c1-3e3b5601184b",
        "colab": {
          "base_uri": "https://localhost:8080/"
        }
      },
      "execution_count": 4,
      "outputs": [
        {
          "output_type": "stream",
          "name": "stdout",
          "text": [
            "Escriber un nombre;)Zander\n",
            "Escriber una oracion;)ayer vi a Zander\n",
            "La palabra se encuentra en la frase.\n"
          ]
        }
      ]
    },
    {
      "cell_type": "code",
      "source": [
        "def non_consecutive(word):\n",
        "  new_word = ''\n",
        "  for i in range(0, len(word), 2):\n",
        "    new_word += word[i]\n",
        "    return new_word\n",
        "\n",
        "print(non_consecutive('Murcielagos'))\n",
        "print(non_consecutive('Lechuga'))\n",
        "print(non_consecutive('Zanahoria'))"
      ],
      "metadata": {
        "id": "cVSgMGD7TJsT",
        "outputId": "d891fb74-ba18-4c03-ace2-eda65592e9c6",
        "colab": {
          "base_uri": "https://localhost:8080/"
        }
      },
      "execution_count": 8,
      "outputs": [
        {
          "output_type": "stream",
          "name": "stdout",
          "text": [
            "M\n",
            "L\n",
            "Z\n"
          ]
        }
      ]
    },
    {
      "cell_type": "code",
      "source": [
        "def reverse_word(word):\n",
        "  return word[::-1]\n",
        "\n",
        "print(reverse_word('Murcielagos'))\n",
        "print(reverse_word('Lechuza'))\n"
      ],
      "metadata": {
        "id": "Y0bmOw-WiDnh",
        "outputId": "cb7bdcac-36a9-48ea-8b2e-2db73e06deea",
        "colab": {
          "base_uri": "https://localhost:8080/"
        }
      },
      "execution_count": 9,
      "outputs": [
        {
          "output_type": "stream",
          "name": "stdout",
          "text": [
            "sogaleicruM\n",
            "azuhceL\n"
          ]
        }
      ]
    },
    {
      "cell_type": "code",
      "source": [
        "def reverse_word(word):\n",
        "  # return word[::-1]\n",
        "  new_word = ''\n",
        "\n",
        "  for i in range(len(word)-1, -1, -1):\n",
        "    new_word += word[i]\n",
        "\n",
        "  return new_word\n",
        "\n",
        "print(reverse_word('Murcielagos'))\n",
        "print(reverse_word('Jirafa'))"
      ],
      "metadata": {
        "id": "iLDhkacOig5i",
        "outputId": "da2ca972-291e-4735-9047-3111f19598d7",
        "colab": {
          "base_uri": "https://localhost:8080/"
        }
      },
      "execution_count": 11,
      "outputs": [
        {
          "output_type": "stream",
          "name": "stdout",
          "text": [
            "sogaleicruM\n",
            "afariJ\n"
          ]
        }
      ]
    },
    {
      "cell_type": "markdown",
      "source": [
        "#TEXT\n"
      ],
      "metadata": {
        "id": "B6PZZVAykNAy"
      }
    },
    {
      "cell_type": "code",
      "source": [
        "sentence = 'Anita lava la tina'\n",
        "text_list = sentence.slip()\n",
        "text = ''.join(text_list).lower()\n",
        "reverse_text =reverse_word(text)\n",
        "print(reverse_text)"
      ],
      "metadata": {
        "id": "cGlGh0UtkRZx"
      },
      "execution_count": null,
      "outputs": []
    },
    {
      "cell_type": "code",
      "source": [
        "def is_palindrome(sentence):\n",
        "  tet_list = sentence.slip()\n",
        "  text = ''.join(text_list).lower()\n",
        "  reverse_text = reverse_word(text)\n",
        "\n",
        "  return text == reverse_text\n",
        "\n"
      ],
      "metadata": {
        "id": "VmC0CJ6plBSN"
      },
      "execution_count": null,
      "outputs": []
    },
    {
      "cell_type": "markdown",
      "source": [
        "#Regeton"
      ],
      "metadata": {
        "id": "BPPSQcRtl2Np"
      }
    },
    {
      "cell_type": "code",
      "source": [
        "sujeto = ['Mami', 'Bebe', 'Princes', 'Mami']\n",
        "deseo = ['yo quiero', 'yo puedo', 'yo vengo a', 'voy a']\n",
        "accion = ['encendelte', 'amalte', 'ligal', 'jugal']\n",
        "adjetivo = ['suave', 'lento', 'rapido', 'fuerte', 'hasta el amanece', 'todo el dia']\n",
        "complemento = ['hasta que salga el sol', 'toda la noche', ]\n",
        "final = ['sin anestecia.', 'sin compromiso', 'feis to feis.', 'sin miedo']\n",
        "\n",
        "my_dict = {1: sujeto, 2: deseo, 3: accion, 4: adjetivo, 5: complemento, 6: final}\n",
        "\n",
        "message = ''\n",
        "\n",
        "import random\n",
        "lines = 6\n",
        "for i in range(lines):\n",
        "  for values in my_dict.values():\n",
        "    message += random.choice(values)\n",
        "  message += '/n'\n",
        "\n",
        "print(message)"
      ],
      "metadata": {
        "id": "DuSLMCLdl1aT",
        "outputId": "64279a28-8e39-481b-fa84-b2b5212c8b6e",
        "colab": {
          "base_uri": "https://localhost:8080/"
        }
      },
      "execution_count": 13,
      "outputs": [
        {
          "output_type": "stream",
          "name": "stdout",
          "text": [
            "Bebeyo puedoamaltelentotoda la nochesin miedo/nMamiyo puedojugalfuertehasta que salga el solfeis to feis./nBebeyo puedoamalterapidotoda la nochefeis to feis./nBebeyo puedoligaltodo el diahasta que salga el solsin compromiso/nMamiyo puedojugalfuertehasta que salga el solsin compromiso/nPrincesyo puedoligalrapidotoda la nochefeis to feis./n\n"
          ]
        }
      ]
    }
  ]
}