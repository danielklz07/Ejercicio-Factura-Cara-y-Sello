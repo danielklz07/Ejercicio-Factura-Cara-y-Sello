{
  "nbformat": 4,
  "nbformat_minor": 0,
  "metadata": {
    "colab": {
      "provenance": [],
      "authorship_tag": "ABX9TyOShZRcI8wzlZwJiOAPxYKw",
      "include_colab_link": true
    },
    "kernelspec": {
      "name": "python3",
      "display_name": "Python 3"
    },
    "language_info": {
      "name": "python"
    }
  },
  "cells": [
    {
      "cell_type": "markdown",
      "metadata": {
        "id": "view-in-github",
        "colab_type": "text"
      },
      "source": [
        "<a href=\"https://colab.research.google.com/github/danielklz07/Ejercicio-Factura-Cara-y-Sello/blob/main/Ejercicio_taller_5.ipynb\" target=\"_parent\"><img src=\"https://colab.research.google.com/assets/colab-badge.svg\" alt=\"Open In Colab\"/></a>"
      ]
    },
    {
      "cell_type": "markdown",
      "source": [
        "#Clase 5/05/2023\n",
        "\n"
      ],
      "metadata": {
        "id": "aQ2HcfB3GV7l"
      }
    },
    {
      "cell_type": "code",
      "execution_count": null,
      "metadata": {
        "colab": {
          "base_uri": "https://localhost:8080/"
        },
        "id": "weuBPXjmGFcI",
        "outputId": "1a6be3df-1a7b-44eb-d7c8-0d093b368ceb"
      },
      "outputs": [
        {
          "output_type": "stream",
          "name": "stdout",
          "text": [
            "Hola, Antolin\n",
            "name\n"
          ]
        }
      ],
      "source": [
        "def say_hello(name):\n",
        "  print(\"Hola, \" + name)\n",
        "\n",
        "say_hello(\"Antolin\")\n",
        "print(\"name\")"
      ]
    },
    {
      "cell_type": "code",
      "source": [
        "menu = {\"Mondongo\": 1000, \"Yuca\": 500, \"Chirimolla\": 1200}\n",
        "print(menu)\n"
      ],
      "metadata": {
        "colab": {
          "base_uri": "https://localhost:8080/"
        },
        "id": "cRbjO2YZL_xg",
        "outputId": "ed4c60f7-b017-4dc8-fe28-0e3f5edf082b"
      },
      "execution_count": null,
      "outputs": [
        {
          "output_type": "stream",
          "name": "stdout",
          "text": [
            "{'Mondongo': 1000, 'Yuca': 500, 'Chirimolla': 1200}\n"
          ]
        }
      ]
    },
    {
      "cell_type": "code",
      "source": [
        "q = [2, 3, 5, 4, 1]\n",
        "prices = [1000, 2000, 1500, 3500, 2300]\n",
        "\n",
        "def calculate_total(q_list, prices_list):\n",
        "  total = 0\n",
        "  if len(q_list) == len(prices_list):\n",
        "    for i in range(len(q_list)):\n",
        "       total += q_list[i] * prices_list[i]\n",
        "  \n",
        "  else:\n",
        "    print(\"Las listas son de tamañs dierentes.\")\n",
        "  return total\n",
        "\n",
        "total_venta = calculate_total(q,prices)\n",
        "print(f\"ventas totales: ${total_venta}\")"
      ],
      "metadata": {
        "colab": {
          "base_uri": "https://localhost:8080/"
        },
        "id": "Pcd3-jR3NnK5",
        "outputId": "54ba1a7b-630e-4507-fa34-cf92d16c96a8"
      },
      "execution_count": null,
      "outputs": [
        {
          "output_type": "stream",
          "name": "stdout",
          "text": [
            "ventas totales: $31800\n"
          ]
        }
      ]
    },
    {
      "cell_type": "code",
      "source": [
        "fast_foods = {\"Pizza\": 14000, \"Hot Dog\": 10000, \"Burger\": 12000, \"Suizo\": 20000, \"Sandwich\": 9000}\n",
        "\n",
        "print(\"Menu\")\n",
        "for key, value in fast_foods.items():\n",
        "  print(f\"{key}... ${value}\")"
      ],
      "metadata": {
        "colab": {
          "base_uri": "https://localhost:8080/"
        },
        "id": "AT7YqEpwRnia",
        "outputId": "2a0ccce6-4cce-41fe-cd12-4835a1cbd4d5"
      },
      "execution_count": null,
      "outputs": [
        {
          "output_type": "stream",
          "name": "stdout",
          "text": [
            "Menu\n",
            "Pizza... $14000\n",
            "Hot Dog... $10000\n",
            "Burger... $12000\n",
            "Suizo... $20000\n",
            "Sandwich... $9000\n"
          ]
        }
      ]
    },
    {
      "cell_type": "code",
      "source": [],
      "metadata": {
        "id": "cVSgMGD7TJsT"
      },
      "execution_count": null,
      "outputs": []
    },
    {
      "cell_type": "code",
      "source": [
        "\n"
      ],
      "metadata": {
        "id": "6xVDlhdTWg4U"
      },
      "execution_count": null,
      "outputs": []
    }
  ]
}