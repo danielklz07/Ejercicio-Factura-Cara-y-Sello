{
  "nbformat": 4,
  "nbformat_minor": 0,
  "metadata": {
    "colab": {
      "provenance": [],
      "authorship_tag": "ABX9TyOuk3/LftvpWIaUPFEYaQMo",
      "include_colab_link": true
    },
    "kernelspec": {
      "name": "python3",
      "display_name": "Python 3"
    },
    "language_info": {
      "name": "python"
    }
  },
  "cells": [
    {
      "cell_type": "markdown",
      "metadata": {
        "id": "view-in-github",
        "colab_type": "text"
      },
      "source": [
        "<a href=\"https://colab.research.google.com/github/danielklz07/Ejercicio-Factura-Cara-y-Sello/blob/main/Untitled5.ipynb\" target=\"_parent\"><img src=\"https://colab.research.google.com/assets/colab-badge.svg\" alt=\"Open In Colab\"/></a>"
      ]
    },
    {
      "cell_type": "markdown",
      "source": [
        "# 1 Problema"
      ],
      "metadata": {
        "id": "wV32wweUgixi"
      }
    },
    {
      "cell_type": "code",
      "execution_count": 8,
      "metadata": {
        "colab": {
          "base_uri": "https://localhost:8080/"
        },
        "id": "4td0naVaeR5H",
        "outputId": "091d13f3-85ec-4bca-922f-87aa9dfebee7"
      },
      "outputs": [
        {
          "output_type": "stream",
          "name": "stdout",
          "text": [
            "6.0\n",
            "206.0\n"
          ]
        }
      ],
      "source": [
        "# Variable del problema\n",
        "# Se crean las variables utilizadas en la ecuacion y se les asigna un valor:\n",
        "x_0 = 6\n",
        "v_0 = 10\n",
        "a = 12\n",
        "\n",
        "# Se definen los instantes de tiempo indicado:\n",
        "t_1 = 0\n",
        "t_2 = 5\n",
        "\n",
        "# Se escriben las ecuaciones para el calculo de la posicion\n",
        "# Se utilizan las variables definidas:\n",
        "x_1 = x_0 + v_0 * t_1 + (1/2) * a * t_1 ** 2\n",
        "x_2 = x_0 + v_0 * t_2 + (1/2) * a * t_2 ** 2\n",
        "\n",
        "# Se imprimen los valores calculados de la posicion:\n",
        "print(x_1)\n",
        "print(x_2)"
      ]
    },
    {
      "cell_type": "markdown",
      "source": [
        "# 2 Problema\n"
      ],
      "metadata": {
        "id": "L4W1YXUvgqRX"
      }
    },
    {
      "cell_type": "code",
      "source": [
        "# Se crean las coordenadas de los puntos\n",
        "# Punto 1 para d1:\n",
        "x_11 = 4\n",
        "y_11 = 6\n",
        "# Punto 2 para d1:\n",
        "x_12 = -15\n",
        "y_12 = 10\n",
        "\n",
        "# Punto 2 para d2:\n",
        "x_21 = 0\n",
        "y_21 = -4\n",
        "# Punto 2 para d2:\n",
        "x_22 = 8\n",
        "y_22 = 4\n",
        "\n",
        "# Se escribn las ecuaciones para el calculo de la distancia\n",
        "# Se utilizan las variables de los puntos definidos:\n",
        "d_1 = ((x_12 - x_11) ** 2 + (y_12 - y_11) ** 2) ** 0.5\n",
        "d_2 = ((x_22 - x_21) ** 2 + (y_22 - y_21) ** 2) ** 0.5\n",
        "\n",
        "# Se imprimen los valores calculados de la distancia:\n",
        "print(d_1)\n",
        "print(d_2)"
      ],
      "metadata": {
        "colab": {
          "base_uri": "https://localhost:8080/"
        },
        "id": "xjTGglybgto4",
        "outputId": "7a9e4f7e-ad57-4a6b-cf4a-8e51b85767af"
      },
      "execution_count": 9,
      "outputs": [
        {
          "output_type": "stream",
          "name": "stdout",
          "text": [
            "19.4164878389476\n",
            "11.313708498984761\n"
          ]
        }
      ]
    },
    {
      "cell_type": "markdown",
      "source": [
        "# 3 Problema "
      ],
      "metadata": {
        "id": "hcZO8JLVioch"
      }
    },
    {
      "cell_type": "code",
      "source": [
        "# Se asignan los valores a las variables:\n",
        "A = 6\n",
        "B = 3\n",
        "C = 4\n",
        "D = -2\n",
        "\n",
        "# Se imprimen las operacipones:\n",
        "print (A > B)\n",
        "print (B <= C)\n",
        "print (A == B) and (B > C)\n",
        "print (A < C or B < C)\n",
        "print (C != B)\n",
        "print (A + D < C)\n",
        "print (D - C >= A * B)\n",
        "print (D * C == 5 or C * A > 9)\n",
        "print (A * B + C > - D * 10)\n",
        "print (4 * B == C * 3)"
      ],
      "metadata": {
        "colab": {
          "base_uri": "https://localhost:8080/"
        },
        "id": "hwjsNck1isk7",
        "outputId": "aac6c9a5-3d18-4517-89c0-b9f9e5ce0a2e"
      },
      "execution_count": 10,
      "outputs": [
        {
          "output_type": "stream",
          "name": "stdout",
          "text": [
            "True\n",
            "True\n",
            "False\n",
            "True\n",
            "True\n",
            "False\n",
            "False\n",
            "True\n",
            "True\n",
            "True\n"
          ]
        }
      ]
    }
  ]
}