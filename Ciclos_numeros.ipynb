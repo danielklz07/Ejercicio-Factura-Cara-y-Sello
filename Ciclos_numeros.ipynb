{
  "nbformat": 4,
  "nbformat_minor": 0,
  "metadata": {
    "colab": {
      "provenance": [],
      "authorship_tag": "ABX9TyOFNqHmoXojBvedPldDJL1o",
      "include_colab_link": true
    },
    "kernelspec": {
      "name": "python3",
      "display_name": "Python 3"
    },
    "language_info": {
      "name": "python"
    }
  },
  "cells": [
    {
      "cell_type": "markdown",
      "metadata": {
        "id": "view-in-github",
        "colab_type": "text"
      },
      "source": [
        "<a href=\"https://colab.research.google.com/github/danielklz07/Ejercicio-Factura-Cara-y-Sello/blob/main/Ciclos_numeros.ipynb\" target=\"_parent\"><img src=\"https://colab.research.google.com/assets/colab-badge.svg\" alt=\"Open In Colab\"/></a>"
      ]
    },
    {
      "cell_type": "code",
      "execution_count": 12,
      "metadata": {
        "colab": {
          "base_uri": "https://localhost:8080/"
        },
        "id": "Lsca0r4s9vtC",
        "outputId": "6f3cf249-cdd4-48be-f229-408bac06a890"
      },
      "outputs": [
        {
          "output_type": "stream",
          "name": "stdout",
          "text": [
            "[]\n",
            "['Hot Dog']\n",
            "['Hot Dog', 'Burguer', 'Pizza']\n",
            "<class 'type'> ['Hot Dog', 'Burguer', 'Pizza']\n",
            "Hot Dog\n",
            "Burguer\n",
            "Pizza\n"
          ]
        }
      ],
      "source": [
        "jonk_food = []\n",
        "print(jonk_food)\n",
        "jonk_food.append(\"Hot Dog\")\n",
        "print(jonk_food)\n",
        "jonk_food.append(\"Burguer\")\n",
        "jonk_food.append(\"Pizza\")\n",
        "print(jonk_food)\n",
        "print(type,jonk_food)\n",
        "\n",
        "for food in jonk_food:\n",
        "  print(food)"
      ]
    },
    {
      "cell_type": "code",
      "source": [
        "print(\"namae Bell Cranel, Sans\")\n",
        "print(\"Hime Hime hime stukidai stukidai\")\n",
        "print(\"Dateballoooooo\")\n",
        "print(\"i loveling ?????\")\n",
        "print(\"kai yo keeeeeeennn\")\n",
        "print(\"HOPE\")"
      ],
      "metadata": {
        "colab": {
          "base_uri": "https://localhost:8080/"
        },
        "id": "WEdYsxqUAXN3",
        "outputId": "65be0cb4-4ca0-4785-80dc-7d0e0988fae3"
      },
      "execution_count": 18,
      "outputs": [
        {
          "output_type": "stream",
          "name": "stdout",
          "text": [
            "namae Bell Cranel, Sans\n",
            "Hime Hime hime stukidai stukidai\n",
            "Dateballoooooo\n",
            "i loveling ?????\n",
            "kai yo keeeeeeennn\n",
            "HOPE\n"
          ]
        }
      ]
    },
    {
      "cell_type": "code",
      "source": [
        "A = [1, 2, 3]\n",
        "B = [4, 5, 6]\n",
        "\n",
        "A_sum = 0\n",
        "B_sum = 0\n",
        "\n",
        "for i in A:\n",
        "  A_sum += i\n",
        "\n",
        "for i in B:\n",
        "  B_sum += i\n",
        "\n",
        "if A_sum > B_sum:\n",
        "  print(\"A\")\n",
        "else:\n",
        "  print(\"B\")"
      ],
      "metadata": {
        "colab": {
          "base_uri": "https://localhost:8080/"
        },
        "id": "IxaLqrNvLYpR",
        "outputId": "a3e2505f-bd86-4f76-fb6d-59a07f35da72"
      },
      "execution_count": 19,
      "outputs": [
        {
          "output_type": "stream",
          "name": "stdout",
          "text": [
            "B\n"
          ]
        }
      ]
    },
    {
      "cell_type": "code",
      "source": [],
      "metadata": {
        "id": "1naSvP82NtLG"
      },
      "execution_count": null,
      "outputs": []
    }
  ]
}