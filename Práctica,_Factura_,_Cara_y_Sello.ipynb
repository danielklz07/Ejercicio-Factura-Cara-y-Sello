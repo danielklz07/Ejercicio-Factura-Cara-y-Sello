{
  "nbformat": 4,
  "nbformat_minor": 0,
  "metadata": {
    "colab": {
      "provenance": [],
      "authorship_tag": "ABX9TyOeBsCyQGNYpcixbwAi6kHb",
      "include_colab_link": true
    },
    "kernelspec": {
      "name": "python3",
      "display_name": "Python 3"
    },
    "language_info": {
      "name": "python"
    }
  },
  "cells": [
    {
      "cell_type": "markdown",
      "metadata": {
        "id": "view-in-github",
        "colab_type": "text"
      },
      "source": [
        "<a href=\"https://colab.research.google.com/github/danielklz07/Ejercicio-Factura-Cara-y-Sello/blob/main/Pr%C3%A1ctica%2C_Factura_%2C_Cara_y_Sello.ipynb\" target=\"_parent\"><img src=\"https://colab.research.google.com/assets/colab-badge.svg\" alt=\"Open In Colab\"/></a>"
      ]
    },
    {
      "cell_type": "markdown",
      "source": [
        "#Factura - Energia"
      ],
      "metadata": {
        "id": "FRzAYi4NeTst"
      }
    },
    {
      "cell_type": "code",
      "execution_count": null,
      "metadata": {
        "id": "ZUCAiW4geHmf"
      },
      "outputs": [],
      "source": [
        "#Entradas\n",
        "#Height above mean sea level\n",
        "#hamsl = 1500\n",
        "hamsl = float(input(\"Ingrese la altura: \"))\n",
        "# Estrato\n",
        "# s = 3\n",
        "com = input(\"Es comercial? (Y/N)\")\n",
        "if com == \"Y\":\n",
        "  s = 7\n",
        "else:\n",
        "  s = int(input(\"Ingrese el estrato (1-6): \"))\n",
        "# Consumo en kWh\n",
        "# c = 200\n",
        "c = float(input(\"Ingrese el consumo del mes en kWh: \"))\n",
        "# Costo Unitario\n",
        "# cu = 500\n",
        "cu = float(input(\"Ingrese Costo Unitario ($/kWh): \"))\n",
        "\n",
        "#Constantes\n",
        "#Consumo Basico\n",
        "if hamsl > 1000:\n",
        "  c_base = 130\n",
        "else:\n",
        "  c_base = 173\n",
        "\n",
        "# Subsidio\n",
        "if s == 1:\n",
        "  subs = -0.6\n",
        "elif s == 2:\n",
        "  subs = -0.5\n",
        "elif s == 3:\n",
        "  subs = -0.15\n",
        "elif s == 4:\n",
        "  subs = 0\n",
        "else:\n",
        "  #Estratos 5 o 6 y Comerciales subs = 0.2\n",
        "  print(\"Consumo Basico: \")\n",
        "  print(c_base,\"kWh\")\n",
        "  print(\"Subsidio: \")\n",
        "  \n",
        "print(subs*100,\"%\")\n",
        "\n",
        "if c <= c_base:\n",
        "    total = c *cu (1 + subs)\n",
        "else:\n",
        "    total = c_base * cu (1 + subs) + (c - c_base) * cu\n",
        "\n",
        "    print(\"Total Factura: \")\n",
        "    print(\"$\",total,\"COP\")"
      ]
    },
    {
      "cell_type": "markdown",
      "source": [
        "#Cara o Sello\n"
      ],
      "metadata": {
        "id": "30NK5EoduY9T"
      }
    },
    {
      "cell_type": "code",
      "source": [
        "import random\n",
        "\n",
        "coin = random.choice([\"Cara\",\"Sello\"])\n",
        "print(\"Seleccione Cara o Sello: \")\n",
        "print(\"1. Cara\")\n",
        "print(\"2. Sello\")\n",
        "my_choice = int(input(\"\"))\n",
        "\n",
        "if my_choice == 1:\n",
        "  my_coin = \"Cara\"\n",
        "elif my_choice ==2:\n",
        "  my_coin = \"Sello\"\n",
        "else:\n",
        "  my_coin =\"Error\"\n",
        "\n",
        "print(\"Salio:\", coin)\n",
        "print(\"Escogiste:\",my_coin)\n",
        "if coin == my_coin:\n",
        "  print(\"Winner! ;]\")\n",
        "else:\n",
        "  print(\"Loser! :(\")"
      ],
      "metadata": {
        "colab": {
          "base_uri": "https://localhost:8080/"
        },
        "id": "G58QyLiKueFB",
        "outputId": "574a2a01-66bb-409c-a59c-caf24f32a0a6"
      },
      "execution_count": 65,
      "outputs": [
        {
          "output_type": "stream",
          "name": "stdout",
          "text": [
            "Seleccione Cara o Sello: \n",
            "1. Cara\n",
            "2. Sello\n",
            "1\n",
            "Salio: Cara\n",
            "Escogiste: Cara\n",
            "Winner! ;]\n"
          ]
        }
      ]
    }
  ]
}